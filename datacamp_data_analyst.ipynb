{
  "cells": [
    {
      "cell_type": "markdown",
      "metadata": {
        "colab": {
          "base_uri": "https://localhost:8080/"
        },
        "id": "Vu2AEsIn6i0n",
        "outputId": "7fbbce61-5242-48c5-f57b-e62a403c8ead"
      },
      "source": [
        "#### Vivendo case \n",
        "##### Vivendo is a fast food chain in Brazil with over 200 outlets.Customers often claim compensation from the company for food poisoning. The legal team processes these claims. The legal team has offices in four locations. The legal team wants to improve how long it takes to reply to customers and close claims.The head of the legal department wants a report on how each location differs in the time it takes to close claims.\n"
      ]
    },
    {
      "cell_type": "code",
      "execution_count": 7,
      "metadata": {
        "colab": {
          "base_uri": "https://localhost:8080/",
          "height": 226
        },
        "id": "ZiIlfsCb51VK",
        "outputId": "023aa494-2fcd-4b55-9d18-ede61182a846"
      },
      "outputs": [
        {
          "data": {
            "text/html": [
              "<div>\n",
              "<style scoped>\n",
              "    .dataframe tbody tr th:only-of-type {\n",
              "        vertical-align: middle;\n",
              "    }\n",
              "\n",
              "    .dataframe tbody tr th {\n",
              "        vertical-align: top;\n",
              "    }\n",
              "\n",
              "    .dataframe thead th {\n",
              "        text-align: right;\n",
              "    }\n",
              "</style>\n",
              "<table border=\"1\" class=\"dataframe\">\n",
              "  <thead>\n",
              "    <tr style=\"text-align: right;\">\n",
              "      <th></th>\n",
              "      <th>claim_id</th>\n",
              "      <th>time_to_close</th>\n",
              "      <th>claim_amount</th>\n",
              "      <th>amount_paid</th>\n",
              "      <th>location</th>\n",
              "      <th>individuals_on_claim</th>\n",
              "      <th>linked_cases</th>\n",
              "      <th>cause</th>\n",
              "    </tr>\n",
              "  </thead>\n",
              "  <tbody>\n",
              "    <tr>\n",
              "      <th>0</th>\n",
              "      <td>1</td>\n",
              "      <td>317</td>\n",
              "      <td>R$ 74474.55</td>\n",
              "      <td>51231.37</td>\n",
              "      <td>RECIFE</td>\n",
              "      <td>15</td>\n",
              "      <td>False</td>\n",
              "      <td>unknown</td>\n",
              "    </tr>\n",
              "    <tr>\n",
              "      <th>1</th>\n",
              "      <td>2</td>\n",
              "      <td>195</td>\n",
              "      <td>R$ 52137.83</td>\n",
              "      <td>42111.30</td>\n",
              "      <td>FORTALEZA</td>\n",
              "      <td>12</td>\n",
              "      <td>True</td>\n",
              "      <td>unknown</td>\n",
              "    </tr>\n",
              "    <tr>\n",
              "      <th>2</th>\n",
              "      <td>3</td>\n",
              "      <td>183</td>\n",
              "      <td>R$ 24447.2</td>\n",
              "      <td>23986.30</td>\n",
              "      <td>SAO LUIS</td>\n",
              "      <td>10</td>\n",
              "      <td>True</td>\n",
              "      <td>meat</td>\n",
              "    </tr>\n",
              "    <tr>\n",
              "      <th>3</th>\n",
              "      <td>4</td>\n",
              "      <td>186</td>\n",
              "      <td>R$ 29006.28</td>\n",
              "      <td>27942.72</td>\n",
              "      <td>FORTALEZA</td>\n",
              "      <td>11</td>\n",
              "      <td>False</td>\n",
              "      <td>meat</td>\n",
              "    </tr>\n",
              "    <tr>\n",
              "      <th>4</th>\n",
              "      <td>5</td>\n",
              "      <td>138</td>\n",
              "      <td>R$ 19520.6</td>\n",
              "      <td>16251.06</td>\n",
              "      <td>RECIFE</td>\n",
              "      <td>11</td>\n",
              "      <td>False</td>\n",
              "      <td>vegetable</td>\n",
              "    </tr>\n",
              "  </tbody>\n",
              "</table>\n",
              "</div>"
            ],
            "text/plain": [
              "   claim_id  time_to_close claim_amount  amount_paid   location  \\\n",
              "0         1            317  R$ 74474.55     51231.37     RECIFE   \n",
              "1         2            195  R$ 52137.83     42111.30  FORTALEZA   \n",
              "2         3            183   R$ 24447.2     23986.30   SAO LUIS   \n",
              "3         4            186  R$ 29006.28     27942.72  FORTALEZA   \n",
              "4         5            138   R$ 19520.6     16251.06     RECIFE   \n",
              "\n",
              "   individuals_on_claim linked_cases      cause  \n",
              "0                    15        False    unknown  \n",
              "1                    12         True    unknown  \n",
              "2                    10         True       meat  \n",
              "3                    11        False       meat  \n",
              "4                    11        False  vegetable  "
            ]
          },
          "execution_count": 7,
          "metadata": {},
          "output_type": "execute_result"
        }
      ],
      "source": [
        "import pandas as pd\n",
        "import matplotlib.pyplot as plt\n",
        "import seaborn as sns\n",
        "import numpy as np\n",
        "import scipy as sc\n",
        "\n",
        "\n",
        "df=pd.read_csv(\"food_claims_2212.csv\")\n",
        "df.head()\n"
      ]
    },
    {
      "cell_type": "code",
      "execution_count": 8,
      "metadata": {
        "colab": {
          "base_uri": "https://localhost:8080/"
        },
        "id": "ohZ1snaP7D8r",
        "outputId": "b04cd2d9-c75a-4613-b6f9-0d61fd85e32f"
      },
      "outputs": [
        {
          "data": {
            "text/plain": [
              "(2000, 8)"
            ]
          },
          "execution_count": 8,
          "metadata": {},
          "output_type": "execute_result"
        }
      ],
      "source": [
        "df.shape"
      ]
    },
    {
      "cell_type": "code",
      "execution_count": 9,
      "metadata": {
        "colab": {
          "base_uri": "https://localhost:8080/"
        },
        "id": "QFjF-_dG7KL1",
        "outputId": "fdf6b5d2-1a47-4bc5-8239-aa21c184f6f7"
      },
      "outputs": [
        {
          "name": "stdout",
          "output_type": "stream",
          "text": [
            "<class 'pandas.core.frame.DataFrame'>\n",
            "RangeIndex: 2000 entries, 0 to 1999\n",
            "Data columns (total 8 columns):\n",
            " #   Column                Non-Null Count  Dtype  \n",
            "---  ------                --------------  -----  \n",
            " 0   claim_id              2000 non-null   int64  \n",
            " 1   time_to_close         2000 non-null   int64  \n",
            " 2   claim_amount          2000 non-null   object \n",
            " 3   amount_paid           1964 non-null   float64\n",
            " 4   location              2000 non-null   object \n",
            " 5   individuals_on_claim  2000 non-null   int64  \n",
            " 6   linked_cases          1974 non-null   object \n",
            " 7   cause                 2000 non-null   object \n",
            "dtypes: float64(1), int64(3), object(4)\n",
            "memory usage: 125.1+ KB\n"
          ]
        }
      ],
      "source": [
        "df.info()"
      ]
    },
    {
      "cell_type": "code",
      "execution_count": 10,
      "metadata": {
        "id": "58dP6k-47QV0"
      },
      "outputs": [],
      "source": [
        "## Missing values - amount_paid (change missing values to median) ,linked_cases (change missing values to false)\n",
        "## changing dtypes - time_to close in days ,claim_amount (object to float)and dropping currency symbol,\n",
        "## checking unique for claim_id .removing duplicates\n",
        "## checking for outliers in claim_amount,amount_paid.\n",
        "\n"
      ]
    },
    {
      "cell_type": "code",
      "execution_count": 11,
      "metadata": {
        "colab": {
          "base_uri": "https://localhost:8080/"
        },
        "id": "-pG52k5_-EGI",
        "outputId": "3e98c553-9c75-47e7-f548-1880af75b5ed"
      },
      "outputs": [
        {
          "name": "stderr",
          "output_type": "stream",
          "text": [
            "C:\\Users\\rutur\\AppData\\Local\\Temp\\ipykernel_23244\\4284823204.py:2: SettingWithCopyWarning: \n",
            "A value is trying to be set on a copy of a slice from a DataFrame.\n",
            "Try using .loc[row_indexer,col_indexer] = value instead\n",
            "\n",
            "See the caveats in the documentation: https://pandas.pydata.org/pandas-docs/stable/user_guide/indexing.html#returning-a-view-versus-a-copy\n",
            "  data_df[data_df['amount_paid'].isnull()]['amount_paid']=data_df['amount_paid'].median\n"
          ]
        }
      ],
      "source": [
        "data_df=df.copy()\n",
        "data_df[data_df['amount_paid'].isnull()]['amount_paid']=data_df['amount_paid'].median\n",
        "\n"
      ]
    },
    {
      "cell_type": "code",
      "execution_count": 12,
      "metadata": {
        "id": "0nQM3dTS_0N6"
      },
      "outputs": [],
      "source": [
        "data_df=data_df[~data_df['linked_cases'].isna()]\n"
      ]
    },
    {
      "cell_type": "code",
      "execution_count": 13,
      "metadata": {
        "id": "Dg2orC9-83W0"
      },
      "outputs": [],
      "source": [
        "data_df['claim_amount']=data_df['claim_amount'].astype(\"str\")\n",
        "#data_df[data_df['claim_amount'].isna()]\n",
        "data_df['claim_amount']=data_df['claim_amount'].str.replace(\"R$\", \"\")"
      ]
    },
    {
      "cell_type": "code",
      "execution_count": 14,
      "metadata": {
        "id": "kCuCVnjbA451"
      },
      "outputs": [],
      "source": [
        "data_df['claim_amount']=data_df['claim_amount'].astype(float)\n",
        "data_df.drop_duplicates('claim_id',inplace=True)\n"
      ]
    },
    {
      "cell_type": "code",
      "execution_count": 15,
      "metadata": {
        "colab": {
          "base_uri": "https://localhost:8080/"
        },
        "id": "Tp72LDugGOpU",
        "outputId": "259a16db-dfc2-4d9c-e798-58666205c82d"
      },
      "outputs": [
        {
          "data": {
            "text/plain": [
              "array(['unknown', 'meat', 'vegetable'], dtype=object)"
            ]
          },
          "execution_count": 15,
          "metadata": {},
          "output_type": "execute_result"
        }
      ],
      "source": [
        "data_df['cause'].unique()\n",
        "## issue with capital vegetable and meat\n",
        "\n",
        "data_df['cause']=data_df['cause'].str.strip().str.lower()\n",
        "data_df['cause']=data_df['cause'].apply( lambda x:\"vegetable\" if x==\"vegetables\" else x )\n",
        "\n",
        "data_df['cause'].unique()"
      ]
    },
    {
      "cell_type": "code",
      "execution_count": 16,
      "metadata": {
        "colab": {
          "base_uri": "https://localhost:8080/",
          "height": 467
        },
        "id": "9Jaaf7psH4ta",
        "outputId": "671b0be8-d5f8-49d0-b09b-10dce6f7c346"
      },
      "outputs": [
        {
          "data": {
            "text/plain": [
              "<Axes: xlabel='location'>"
            ]
          },
          "execution_count": 16,
          "metadata": {},
          "output_type": "execute_result"
        },
        {
          "data": {
            "image/png": "[encoded data removed]",
            "text/plain": [
              "<Figure size 640x480 with 1 Axes>"
            ]
          },
          "metadata": {},
          "output_type": "display_data"
        }
      ],
      "source": [
        "\n",
        "sns.barplot(data=data_df,x=data_df.groupby('location')['claim_id'].count().index,y=data_df.groupby('location')['claim_id'].count().values)"
      ]
    },
    {
      "cell_type": "code",
      "execution_count": 19,
      "metadata": {
        "colab": {
          "base_uri": "https://localhost:8080/",
          "height": 468
        },
        "id": "yFJqsVjpLi2i",
        "outputId": "e11ce944-782b-4c48-cb28-02de23039d84"
      },
      "outputs": [
        {
          "data": {
            "text/plain": [
              "<Axes: xlabel='time_to_close', ylabel='Count'>"
            ]
          },
          "execution_count": 19,
          "metadata": {},
          "output_type": "execute_result"
        },
        {
          "data": {
            "image/png": "[encoded data removed]",
            "text/plain": [
              "<Figure size 640x480 with 1 Axes>"
            ]
          },
          "metadata": {},
          "output_type": "display_data"
        }
      ],
      "source": [
        "sns.histplot(data=data_df,x='time_to_close',kde=True)"
      ]
    },
    {
      "cell_type": "markdown",
      "metadata": {},
      "source": [
        "#### to check which type of distribution it follows\n"
      ]
    },
    {
      "cell_type": "code",
      "execution_count": 21,
      "metadata": {},
      "outputs": [],
      "source": [
        "import scipy.stats as stats\n",
        "results=[]\n",
        "data=np.array(data_df['time_to_close'])\n",
        "distributions=[ 'norm', 'expon', 'uniform', 'gamma', 'logistic', 'weibull_min']\n",
        "### perform goodness of fit\n",
        "for distribution_name in distributions:\n",
        "    distribution = getattr(stats, distribution_name)\n",
        "    parameters = distribution.fit(data)\n",
        "    ks_statistic, ks_p_value = stats.kstest(data, distribution_name, args=parameters)\n",
        "    results.append((distribution_name, ks_statistic, ks_p_value))"
      ]
    },
    {
      "cell_type": "code",
      "execution_count": null,
      "metadata": {},
      "outputs": [],
      "source": []
    },
    {
      "cell_type": "code",
      "execution_count": null,
      "metadata": {
        "colab": {
          "base_uri": "https://localhost:8080/",
          "height": 467
        },
        "id": "4_1r5FSfNehk",
        "outputId": "152dbcbb-e894-4104-f53a-c5f5c9a70d4c"
      },
      "outputs": [
        {
          "data": {
            "text/plain": [
              "<Axes: xlabel='location', ylabel='time_to_close'>"
            ]
          },
          "execution_count": 105,
          "metadata": {},
          "output_type": "execute_result"
        },
        {
          "data": {
            "image/png": "[encoded data removed]",
            "text/plain": [
              "<Figure size 640x480 with 1 Axes>"
            ]
          },
          "metadata": {},
          "output_type": "display_data"
        }
      ],
      "source": [
        "sns.boxplot(x=data_df['location'],y=data_df['time_to_close'])"
      ]
    }
  ],
  "metadata": {
    "colab": {
      "provenance": []
    },
    "kernelspec": {
      "display_name": "Python 3",
      "name": "python3"
    },
    "language_info": {
      "codemirror_mode": {
        "name": "ipython",
        "version": 3
      },
      "file_extension": ".py",
      "mimetype": "text/x-python",
      "name": "python",
      "nbconvert_exporter": "python",
      "pygments_lexer": "ipython3",
      "version": "3.8.17"
    }
  },
  "nbformat": 4,
  "nbformat_minor": 0
}
